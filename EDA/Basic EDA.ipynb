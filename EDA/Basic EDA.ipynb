{
 "cells": [
  {
   "attachments": {},
   "cell_type": "markdown",
   "metadata": {
    "pycharm": {
     "name": "#%% md\n"
    }
   },
   "source": [
    "EDA(1)\n"
   ]
  },
  {
   "cell_type": "code",
   "execution_count": 1,
   "metadata": {
    "_cell_guid": "b1076dfc-b9ad-4769-8c92-a6c4dae69d19",
    "_uuid": "8f2839f25d086af736a60e9eeb907d3b93b6e0e5",
    "execution": {
     "iopub.execute_input": "2023-01-05T14:36:33.814071Z",
     "iopub.status.busy": "2023-01-05T14:36:33.813572Z",
     "iopub.status.idle": "2023-01-05T14:36:33.842426Z",
     "shell.execute_reply": "2023-01-05T14:36:33.840940Z",
     "shell.execute_reply.started": "2023-01-05T14:36:33.813970Z"
    },
    "trusted": true,
    "pycharm": {
     "name": "#%%\n"
    }
   },
   "outputs": [],
   "source": [
    "import pandas as pd\n",
    "import numpy as np\n",
    "from matplotlib import pyplot as plt"
   ]
  },
  {
   "cell_type": "markdown",
   "metadata": {
    "pycharm": {
     "name": "#%% md\n"
    }
   },
   "source": [
    "Let us read in the `train` and `test` datasets."
   ]
  },
  {
   "cell_type": "code",
   "execution_count": 2,
   "metadata": {
    "execution": {
     "iopub.execute_input": "2023-01-05T14:36:33.845404Z",
     "iopub.status.busy": "2023-01-05T14:36:33.844897Z",
     "iopub.status.idle": "2023-01-05T14:36:55.387532Z",
     "shell.execute_reply": "2023-01-05T14:36:55.385986Z",
     "shell.execute_reply.started": "2023-01-05T14:36:33.845358Z"
    },
    "trusted": true,
    "pycharm": {
     "name": "#%%\n"
    }
   },
   "outputs": [],
   "source": [
    "train = pd.read_parquet('../input/otto-full-optimized-memory-footprint/train.parquet')\n",
    "test = pd.read_parquet('../input/otto-full-optimized-memory-footprint/test.parquet')"
   ]
  },
  {
   "cell_type": "markdown",
   "metadata": {
    "pycharm": {
     "name": "#%% md\n"
    }
   },
   "source": [
    "Let us also read in the pickle file that will allow us to decipher the `type` information that has been encoded as integers to conserve memory."
   ]
  },
  {
   "cell_type": "code",
   "execution_count": 3,
   "metadata": {
    "execution": {
     "iopub.execute_input": "2023-01-05T14:36:55.392241Z",
     "iopub.status.busy": "2023-01-05T14:36:55.391178Z",
     "iopub.status.idle": "2023-01-05T14:37:10.399326Z",
     "shell.execute_reply": "2023-01-05T14:37:10.397992Z",
     "shell.execute_reply.started": "2023-01-05T14:36:55.392170Z"
    },
    "trusted": true,
    "pycharm": {
     "name": "#%%\n"
    }
   },
   "outputs": [
    {
     "name": "stdout",
     "output_type": "stream",
     "text": [
      "Collecting pickle5\n",
      "  Downloading pickle5-0.0.12-cp37-cp37m-manylinux_2_5_x86_64.manylinux1_x86_64.whl (256 kB)\n",
      "\u001B[2K     \u001B[90m━━━━━━━━━━━━━━━━━━━━━━━━━━━━━━━━━━━━━━━\u001B[0m \u001B[32m256.4/256.4 kB\u001B[0m \u001B[31m1.4 MB/s\u001B[0m eta \u001B[36m0:00:00\u001B[0ma \u001B[36m0:00:01\u001B[0m\n",
      "\u001B[?25hInstalling collected packages: pickle5\n",
      "Successfully installed pickle5-0.0.12\n",
      "\u001B[33mWARNING: Running pip as the 'root' user can result in broken permissions and conflicting behaviour with the system package manager. It is recommended to use a virtual environment instead: https://pip.pypa.io/warnings/venv\u001B[0m\u001B[33m\n",
      "\u001B[0m"
     ]
    }
   ],
   "source": [
    "!pip install pickle5\n",
    "\n",
    "import pickle5 as pickle\n",
    "\n",
    "with open('../input/otto-full-optimized-memory-footprint/id2type.pkl', \"rb\") as fh:\n",
    "    id2type = pickle.load(fh)"
   ]
  },
  {
   "cell_type": "code",
   "execution_count": 4,
   "metadata": {
    "execution": {
     "iopub.execute_input": "2023-01-05T14:37:10.402873Z",
     "iopub.status.busy": "2023-01-05T14:37:10.401062Z",
     "iopub.status.idle": "2023-01-05T14:37:10.417588Z",
     "shell.execute_reply": "2023-01-05T14:37:10.415709Z",
     "shell.execute_reply.started": "2023-01-05T14:37:10.402785Z"
    },
    "trusted": true,
    "pycharm": {
     "name": "#%%\n"
    }
   },
   "outputs": [
    {
     "data": {
      "text/plain": [
       "((216716096, 4), (6928123, 4))"
      ]
     },
     "execution_count": 4,
     "metadata": {},
     "output_type": "execute_result"
    }
   ],
   "source": [
    "train.shape, test.shape"
   ]
  },
  {
   "cell_type": "markdown",
   "metadata": {
    "pycharm": {
     "name": "#%% md\n"
    }
   },
   "source": [
    "The `train` dataset contains 216716096 datapoints with `test` containing only 6928123.\n",
    "\n",
    "Proportion of `test` to `train`:"
   ]
  },
  {
   "cell_type": "code",
   "execution_count": 5,
   "metadata": {
    "execution": {
     "iopub.execute_input": "2023-01-05T14:37:10.421541Z",
     "iopub.status.busy": "2023-01-05T14:37:10.421139Z",
     "iopub.status.idle": "2023-01-05T14:37:10.433524Z",
     "shell.execute_reply": "2023-01-05T14:37:10.432148Z",
     "shell.execute_reply.started": "2023-01-05T14:37:10.421511Z"
    },
    "trusted": true,
    "pycharm": {
     "name": "#%%\n"
    }
   },
   "outputs": [
    {
     "data": {
      "text/plain": [
       "0.03196865912534711"
      ]
     },
     "execution_count": 5,
     "metadata": {},
     "output_type": "execute_result"
    }
   ],
   "source": [
    "test.shape[0]/train.shape[0]"
   ]
  },
  {
   "attachments": {},
   "cell_type": "markdown",
   "metadata": {
    "pycharm": {
     "name": "#%% md\n"
    }
   },
   "source": [
    "The size of the test set is ~3.1% of the train set."
   ]
  },
  {
   "cell_type": "code",
   "execution_count": 6,
   "metadata": {
    "execution": {
     "iopub.execute_input": "2023-01-05T14:37:10.437254Z",
     "iopub.status.busy": "2023-01-05T14:37:10.436149Z",
     "iopub.status.idle": "2023-01-05T14:37:10.457188Z",
     "shell.execute_reply": "2023-01-05T14:37:10.456176Z",
     "shell.execute_reply.started": "2023-01-05T14:37:10.437188Z"
    },
    "trusted": true,
    "pycharm": {
     "name": "#%%\n"
    }
   },
   "outputs": [
    {
     "data": {
      "text/html": [
       "<div>\n",
       "<style scoped>\n",
       "    .dataframe tbody tr th:only-of-type {\n",
       "        vertical-align: middle;\n",
       "    }\n",
       "\n",
       "    .dataframe tbody tr th {\n",
       "        vertical-align: top;\n",
       "    }\n",
       "\n",
       "    .dataframe thead th {\n",
       "        text-align: right;\n",
       "    }\n",
       "</style>\n",
       "<table border=\"1\" class=\"dataframe\">\n",
       "  <thead>\n",
       "    <tr style=\"text-align: right;\">\n",
       "      <th></th>\n",
       "      <th>session</th>\n",
       "      <th>aid</th>\n",
       "      <th>ts</th>\n",
       "      <th>type</th>\n",
       "    </tr>\n",
       "  </thead>\n",
       "  <tbody>\n",
       "    <tr>\n",
       "      <th>0</th>\n",
       "      <td>0</td>\n",
       "      <td>1517085</td>\n",
       "      <td>1659304800</td>\n",
       "      <td>0</td>\n",
       "    </tr>\n",
       "    <tr>\n",
       "      <th>1</th>\n",
       "      <td>0</td>\n",
       "      <td>1563459</td>\n",
       "      <td>1659304904</td>\n",
       "      <td>0</td>\n",
       "    </tr>\n",
       "    <tr>\n",
       "      <th>2</th>\n",
       "      <td>0</td>\n",
       "      <td>1309446</td>\n",
       "      <td>1659367439</td>\n",
       "      <td>0</td>\n",
       "    </tr>\n",
       "    <tr>\n",
       "      <th>3</th>\n",
       "      <td>0</td>\n",
       "      <td>16246</td>\n",
       "      <td>1659367719</td>\n",
       "      <td>0</td>\n",
       "    </tr>\n",
       "    <tr>\n",
       "      <th>4</th>\n",
       "      <td>0</td>\n",
       "      <td>1781822</td>\n",
       "      <td>1659367871</td>\n",
       "      <td>0</td>\n",
       "    </tr>\n",
       "  </tbody>\n",
       "</table>\n",
       "</div>"
      ],
      "text/plain": [
       "   session      aid          ts  type\n",
       "0        0  1517085  1659304800     0\n",
       "1        0  1563459  1659304904     0\n",
       "2        0  1309446  1659367439     0\n",
       "3        0    16246  1659367719     0\n",
       "4        0  1781822  1659367871     0"
      ]
     },
     "execution_count": 6,
     "metadata": {},
     "output_type": "execute_result"
    }
   ],
   "source": [
    "train.head()"
   ]
  },
  {
   "cell_type": "code",
   "execution_count": 7,
   "metadata": {
    "execution": {
     "iopub.execute_input": "2023-01-05T14:37:10.460016Z",
     "iopub.status.busy": "2023-01-05T14:37:10.458430Z",
     "iopub.status.idle": "2023-01-05T14:37:12.337411Z",
     "shell.execute_reply": "2023-01-05T14:37:12.335705Z",
     "shell.execute_reply.started": "2023-01-05T14:37:10.459971Z"
    },
    "trusted": true,
    "pycharm": {
     "name": "#%%\n"
    }
   },
   "outputs": [
    {
     "data": {
      "text/plain": [
       "(12899779, 1671803)"
      ]
     },
     "execution_count": 7,
     "metadata": {},
     "output_type": "execute_result"
    }
   ],
   "source": [
    "train.session.unique().shape[0], test.session.unique().shape[0]"
   ]
  },
  {
   "cell_type": "code",
   "execution_count": 8,
   "metadata": {
    "execution": {
     "iopub.execute_input": "2023-01-05T14:37:12.340110Z",
     "iopub.status.busy": "2023-01-05T14:37:12.339660Z",
     "iopub.status.idle": "2023-01-05T14:37:14.174293Z",
     "shell.execute_reply": "2023-01-05T14:37:14.172067Z",
     "shell.execute_reply.started": "2023-01-05T14:37:12.340075Z"
    },
    "trusted": true,
    "pycharm": {
     "name": "#%%\n"
    }
   },
   "outputs": [
    {
     "data": {
      "text/plain": [
       "0.12959935205091497"
      ]
     },
     "execution_count": 8,
     "metadata": {},
     "output_type": "execute_result"
    }
   ],
   "source": [
    "test.session.unique().shape[0]/train.session.unique().shape[0]"
   ]
  },
  {
   "cell_type": "code",
   "execution_count": 9,
   "metadata": {
    "execution": {
     "iopub.execute_input": "2023-01-05T14:37:14.177808Z",
     "iopub.status.busy": "2023-01-05T14:37:14.177223Z",
     "iopub.status.idle": "2023-01-05T14:37:15.061584Z",
     "shell.execute_reply": "2023-01-05T14:37:15.060051Z",
     "shell.execute_reply.started": "2023-01-05T14:37:14.177734Z"
    },
    "trusted": true,
    "pycharm": {
     "name": "#%%\n"
    }
   },
   "outputs": [
    {
     "data": {
      "text/plain": [
       "<AxesSubplot:>"
      ]
     },
     "execution_count": 9,
     "metadata": {},
     "output_type": "execute_result"
    },
    {
     "data": {
      "image/png": "[encoded data removed]",
      "text/plain": [
       "<Figure size 432x288 with 1 Axes>"
      ]
     },
     "metadata": {
      "needs_background": "light"
     },
     "output_type": "display_data"
    }
   ],
   "source": [
    "test.groupby('session')['aid'].count().apply(np.log1p).hist()"
   ]
  },
  {
   "cell_type": "code",
   "execution_count": 10,
   "metadata": {
    "execution": {
     "iopub.execute_input": "2023-01-05T14:37:15.065135Z",
     "iopub.status.busy": "2023-01-05T14:37:15.064520Z",
     "iopub.status.idle": "2023-01-05T14:37:27.796964Z",
     "shell.execute_reply": "2023-01-05T14:37:27.795085Z",
     "shell.execute_reply.started": "2023-01-05T14:37:15.065082Z"
    },
    "trusted": true,
    "pycharm": {
     "name": "#%%\n"
    }
   },
   "outputs": [
    {
     "data": {
      "text/plain": [
       "<AxesSubplot:>"
      ]
     },
     "execution_count": 10,
     "metadata": {},
     "output_type": "execute_result"
    },
    {
     "data": {
      "image/png": "[encoded data removed]",
      "text/plain": [
       "<Figure size 432x288 with 1 Axes>"
      ]
     },
     "metadata": {
      "needs_background": "light"
     },
     "output_type": "display_data"
    }
   ],
   "source": [
    "train.groupby('session')['aid'].count().apply(np.log1p).hist()"
   ]
  },
  {
   "attachments": {
    "1b75b444-bfab-4b46-84ec-67f1f7b6cf2f.png": {
     "image/png": "[encoded data removed]"
    }
   },
   "cell_type": "markdown",
   "metadata": {
    "pycharm": {
     "name": "#%% md\n"
    }
   },
   "source": [
    "![![download.png](attachment:1b75b444-bfab-4b46-84ec-67f1f7b6cf2f.png)](http://)"
   ]
  },
  {
   "cell_type": "code",
   "execution_count": 11,
   "metadata": {
    "execution": {
     "iopub.execute_input": "2023-01-05T14:37:27.804251Z",
     "iopub.status.busy": "2023-01-05T14:37:27.803742Z",
     "iopub.status.idle": "2023-01-05T14:37:27.820858Z",
     "shell.execute_reply": "2023-01-05T14:37:27.818380Z",
     "shell.execute_reply.started": "2023-01-05T14:37:27.804189Z"
    },
    "trusted": true,
    "pycharm": {
     "name": "#%%\n"
    }
   },
   "outputs": [
    {
     "data": {
      "text/plain": [
       "0            1659304800\n",
       "1            1659304904\n",
       "2            1659367439\n",
       "3            1659367719\n",
       "4            1659367871\n",
       "                ...    \n",
       "216716091    1661723987\n",
       "216716092    1661723976\n",
       "216716093    1661723986\n",
       "216716094    1661723983\n",
       "216716095    1661723994\n",
       "Name: ts, Length: 216716096, dtype: int32"
      ]
     },
     "execution_count": 11,
     "metadata": {},
     "output_type": "execute_result"
    }
   ],
   "source": [
    "train.ts"
   ]
  },
  {
   "cell_type": "code",
   "execution_count": 12,
   "metadata": {
    "execution": {
     "iopub.execute_input": "2023-01-05T14:37:27.824916Z",
     "iopub.status.busy": "2023-01-05T14:37:27.823535Z",
     "iopub.status.idle": "2023-01-05T14:37:28.616703Z",
     "shell.execute_reply": "2023-01-05T14:37:28.615209Z",
     "shell.execute_reply.started": "2023-01-05T14:37:27.824835Z"
    },
    "trusted": true,
    "pycharm": {
     "name": "#%%\n"
    }
   },
   "outputs": [
    {
     "data": {
      "text/plain": [
       "(datetime.datetime(1970, 1, 20, 4, 55, 4, 800000),\n",
       " datetime.datetime(1970, 1, 20, 5, 35, 23, 999000))"
      ]
     },
     "execution_count": 12,
     "metadata": {},
     "output_type": "execute_result"
    }
   ],
   "source": [
    "import datetime\n",
    "\n",
    "datetime.datetime.fromtimestamp(train.ts.min()/1000), datetime.datetime.fromtimestamp(train.ts.max()/1000)"
   ]
  },
  {
   "cell_type": "code",
   "execution_count": 13,
   "metadata": {
    "execution": {
     "iopub.execute_input": "2023-01-05T14:37:28.619511Z",
     "iopub.status.busy": "2023-01-05T14:37:28.618972Z",
     "iopub.status.idle": "2023-01-05T14:37:28.693615Z",
     "shell.execute_reply": "2023-01-05T14:37:28.691996Z",
     "shell.execute_reply.started": "2023-01-05T14:37:28.619461Z"
    },
    "trusted": true,
    "pycharm": {
     "name": "#%%\n"
    }
   },
   "outputs": [
    {
     "data": {
      "text/plain": [
       "(datetime.datetime(1970, 1, 20, 5, 35, 24),\n",
       " datetime.datetime(1970, 1, 20, 5, 45, 28, 791000))"
      ]
     },
     "execution_count": 13,
     "metadata": {},
     "output_type": "execute_result"
    }
   ],
   "source": [
    "import datetime\n",
    "\n",
    "datetime.datetime.fromtimestamp(test.ts.min()/1000), datetime.datetime.fromtimestamp(test.ts.max()/1000)"
   ]
  },
  {
   "cell_type": "code",
   "execution_count": 14,
   "metadata": {
    "execution": {
     "iopub.execute_input": "2023-01-05T14:37:28.695638Z",
     "iopub.status.busy": "2023-01-05T14:37:28.695226Z",
     "iopub.status.idle": "2023-01-05T14:38:58.115223Z",
     "shell.execute_reply": "2023-01-05T14:38:58.113322Z",
     "shell.execute_reply.started": "2023-01-05T14:37:28.695606Z"
    },
    "trusted": true,
    "pycharm": {
     "name": "#%%\n"
    }
   },
   "outputs": [
    {
     "data": {
      "text/plain": [
       "0"
      ]
     },
     "execution_count": 14,
     "metadata": {},
     "output_type": "execute_result"
    }
   ],
   "source": [
    "len(set(test.aid.tolist()) - set(train.aid.tolist()))"
   ]
  },
  {
   "attachments": {},
   "cell_type": "markdown",
   "metadata": {
    "pycharm": {
     "name": "#%% md\n"
    }
   },
   "source": [
    "no new items in the test set! "
   ]
  },
  {
   "cell_type": "code",
   "execution_count": 15,
   "metadata": {
    "execution": {
     "iopub.execute_input": "2023-01-05T14:38:58.118636Z",
     "iopub.status.busy": "2023-01-05T14:38:58.118100Z",
     "iopub.status.idle": "2023-01-05T14:39:13.887221Z",
     "shell.execute_reply": "2023-01-05T14:39:13.885197Z",
     "shell.execute_reply.started": "2023-01-05T14:38:58.118597Z"
    },
    "trusted": true,
    "pycharm": {
     "name": "#%%\n"
    }
   },
   "outputs": [
    {
     "data": {
      "text/plain": [
       "count    1.289978e+07\n",
       "mean     1.679999e+01\n",
       "std      3.357738e+01\n",
       "min      2.000000e+00\n",
       "25%      3.000000e+00\n",
       "50%      6.000000e+00\n",
       "75%      1.500000e+01\n",
       "max      5.000000e+02\n",
       "Name: aid, dtype: float64"
      ]
     },
     "execution_count": 15,
     "metadata": {},
     "output_type": "execute_result"
    }
   ],
   "source": [
    "train.groupby('session')['aid'].count().describe()"
   ]
  },
  {
   "cell_type": "code",
   "execution_count": 16,
   "metadata": {
    "execution": {
     "iopub.execute_input": "2023-01-05T14:39:13.890202Z",
     "iopub.status.busy": "2023-01-05T14:39:13.889621Z",
     "iopub.status.idle": "2023-01-05T14:39:14.531145Z",
     "shell.execute_reply": "2023-01-05T14:39:14.529124Z",
     "shell.execute_reply.started": "2023-01-05T14:39:13.890153Z"
    },
    "trusted": true,
    "pycharm": {
     "name": "#%%\n"
    }
   },
   "outputs": [
    {
     "data": {
      "text/plain": [
       "count    1.671803e+06\n",
       "mean     4.144103e+00\n",
       "std      8.215717e+00\n",
       "min      1.000000e+00\n",
       "25%      1.000000e+00\n",
       "50%      2.000000e+00\n",
       "75%      4.000000e+00\n",
       "max      4.580000e+02\n",
       "Name: aid, dtype: float64"
      ]
     },
     "execution_count": 16,
     "metadata": {},
     "output_type": "execute_result"
    }
   ],
   "source": [
    "test.groupby('session')['aid'].count().describe()"
   ]
  },
  {
   "cell_type": "code",
   "execution_count": 17,
   "metadata": {
    "execution": {
     "iopub.execute_input": "2023-01-05T14:39:14.533935Z",
     "iopub.status.busy": "2023-01-05T14:39:14.533299Z",
     "iopub.status.idle": "2023-01-05T14:39:14.793879Z",
     "shell.execute_reply": "2023-01-05T14:39:14.792349Z",
     "shell.execute_reply.started": "2023-01-05T14:39:14.533880Z"
    },
    "trusted": true,
    "pycharm": {
     "name": "#%%\n"
    }
   },
   "outputs": [
    {
     "data": {
      "text/plain": [
       "(12899778, 12899779)"
      ]
     },
     "execution_count": 17,
     "metadata": {},
     "output_type": "execute_result"
    }
   ],
   "source": [
    "train.session.max(), test.session.min()"
   ]
  },
  {
   "attachments": {},
   "cell_type": "markdown",
   "metadata": {
    "pycharm": {
     "name": "#%% md\n"
    }
   },
   "source": [
    " We see that the `session_ids` are not overlapping between `train` and `test` so it will be impossible to map the users (even if we have seen them before in train). We have to assume each session is from a different user.\n"
   ]
  },
  {
   "cell_type": "markdown",
   "metadata": {
    "pycharm": {
     "name": "#%% md\n"
    }
   },
   "source": []
  }
 ],
 "metadata": {
  "kernelspec": {
   "display_name": "Python 3",
   "language": "python",
   "name": "python3"
  },
  "language_info": {
   "codemirror_mode": {
    "name": "ipython",
    "version": 3
   },
   "file_extension": ".py",
   "mimetype": "text/x-python",
   "name": "python",
   "nbconvert_exporter": "python",
   "pygments_lexer": "ipython3",
   "version": "3.7.12"
  }
 },
 "nbformat": 4,
 "nbformat_minor": 4
}