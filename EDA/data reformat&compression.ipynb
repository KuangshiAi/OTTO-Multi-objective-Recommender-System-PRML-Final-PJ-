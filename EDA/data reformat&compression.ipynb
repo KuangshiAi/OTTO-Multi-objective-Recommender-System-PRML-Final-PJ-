{
 "cells": [
  {
   "cell_type": "code",
   "execution_count": 2,
   "metadata": {
    "_cell_guid": "b1076dfc-b9ad-4769-8c92-a6c4dae69d19",
    "_uuid": "8f2839f25d086af736a60e9eeb907d3b93b6e0e5",
    "execution": {
     "iopub.execute_input": "2023-01-05T16:53:11.107026Z",
     "iopub.status.busy": "2023-01-05T16:53:11.106126Z",
     "iopub.status.idle": "2023-01-05T16:53:11.116760Z",
     "shell.execute_reply": "2023-01-05T16:53:11.115720Z",
     "shell.execute_reply.started": "2023-01-05T16:53:11.106967Z"
    },
    "trusted": true,
    "pycharm": {
     "name": "#%%\n"
    }
   },
   "outputs": [
    {
     "name": "stdout",
     "output_type": "stream",
     "text": [
      "/kaggle/input/otto-recommender-system/sample_submission.csv\n",
      "/kaggle/input/otto-recommender-system/test.jsonl\n",
      "/kaggle/input/otto-recommender-system/train.jsonl\n"
     ]
    }
   ],
   "source": [
    "# This Python 3 environment comes with many helpful analytics libraries installed\n",
    "# It is defined by the kaggle/python Docker image: https://github.com/kaggle/docker-python\n",
    "# For example, here's several helpful packages to load\n",
    "\n",
    "import numpy as np # linear algebra\n",
    "import pandas as pd # data processing, CSV file I/O (e.g. pd.read_csv)\n",
    "import time\n",
    "import pyarrow.parquet as pq\n",
    "import pyarrow as pa\n",
    "\n",
    "# Input data files are available in the read-only \"../input/\" directory\n",
    "# For example, running this (by clicking run or pressing Shift+Enter) will list all files under the input directory\n",
    "\n",
    "import os\n",
    "for dirname, _, filenames in os.walk('/kaggle/input'):\n",
    "    for filename in filenames:\n",
    "        print(os.path.join(dirname, filename))\n",
    "\n",
    "# You can write up to 20GB to the current directory (/kaggle/working/) that gets preserved as output when you create a version using \"Save & Run All\" \n",
    "# You can also write temporary files to /kaggle/temp/, but they won't be saved outside of the current session"
   ]
  },
  {
   "cell_type": "code",
   "execution_count": null,
   "metadata": {
    "execution": {
     "iopub.execute_input": "2023-01-05T16:53:13.237450Z",
     "iopub.status.busy": "2023-01-05T16:53:13.236578Z"
    },
    "trusted": true,
    "pycharm": {
     "name": "#%%\n"
    }
   },
   "outputs": [],
   "source": [
    "#train = pd.read_json('/kaggle/input/otto-recommender-system/train.jsonl',lines=True)\n",
    "test = pd.read_json('/kaggle/input/otto-recommender-system/train.jsonl',lines=True)\n",
    "test.head()"
   ]
  },
  {
   "cell_type": "code",
   "execution_count": 4,
   "metadata": {
    "execution": {
     "iopub.execute_input": "2023-01-05T16:05:50.649281Z",
     "iopub.status.busy": "2023-01-05T16:05:50.648857Z",
     "iopub.status.idle": "2023-01-05T16:07:14.667282Z",
     "shell.execute_reply": "2023-01-05T16:07:14.666351Z",
     "shell.execute_reply.started": "2023-01-05T16:05:50.649248Z"
    },
    "trusted": true,
    "pycharm": {
     "name": "#%%\n"
    }
   },
   "outputs": [],
   "source": [
    "def timetransfer(timestamp)\n",
    "    #转换成localtime\n",
    "    time_local = time.localtime(timestamp)\n",
    "    #转换成新的时间格式(2016-05-05 20:28:54)\n",
    "    dt = time.strftime(\"%Y-%m-%d %H:%M:%S\",time_local)\n",
    "    return dt\n",
    "\n",
    "\n",
    "# 转换格式方便后续处理\n",
    "type_confer={\"clicks\":0,\"carts\":1,\"orders\":2}\n",
    "session_inform = []\n",
    "for i in test.index:\n",
    "    session = test.loc[i, \"session\"]\n",
    "    events = test.loc[i, \"events\"]\n",
    "    for event in events:\n",
    "        session_inform.append([session,event[\"aid\"],timetransfer(event[\"ts\"]),type_confer[event[\"type\"]]])\n",
    "test_df=pd.DataFrame(session_inform,columns=['session','aid','ts','type'])\n",
    "\n",
    "\n",
    "out_file = \"test.parquet\"\n",
    "# Write direct to your parquet file\n",
    "pq.write_table(table, out_file)"
   ]
  }
 ],
 "metadata": {
  "kernelspec": {
   "display_name": "Python 3",
   "language": "python",
   "name": "python3"
  },
  "language_info": {
   "codemirror_mode": {
    "name": "ipython",
    "version": 3
   },
   "file_extension": ".py",
   "mimetype": "text/x-python",
   "name": "python",
   "nbconvert_exporter": "python",
   "pygments_lexer": "ipython3",
   "version": "3.7.10"
  }
 },
 "nbformat": 4,
 "nbformat_minor": 4
}